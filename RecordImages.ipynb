{
 "cells": [
  {
   "cell_type": "code",
   "execution_count": 1,
   "metadata": {},
   "outputs": [],
   "source": [
    "import cv2 #opencv\n",
    "import os\n",
    "import time #take break between taking images\n",
    "import uuid #name our images files"
   ]
  },
  {
   "cell_type": "code",
   "execution_count": 2,
   "metadata": {},
   "outputs": [],
   "source": [
    "IMAGES_PATH = 'Tensorflow/workspace/images/collectedimages'"
   ]
  },
  {
   "cell_type": "code",
   "execution_count": 3,
   "metadata": {},
   "outputs": [],
   "source": [
    "labels = ['Bonjour','Oui','Non','Merci','Help'] # 5 mots qu'on va les convertir en langage de signes\n",
    "nombres_images= 20 #nombre d'images pour chaque mot (20)"
   ]
  },
  {
   "cell_type": "code",
   "execution_count": 4,
   "metadata": {},
   "outputs": [
    {
     "name": "stdout",
     "output_type": "stream",
     "text": [
      "Collecting images for Bonjour\n"
     ]
    },
    {
     "name": "stderr",
     "output_type": "stream",
     "text": [
      "A subdirectory or file #crÃ©er already exists.\n",
      "Error occurred while processing: #crÃ©er.\n",
      "A subdirectory or file dossier already exists.\n",
      "Error occurred while processing: dossier.\n",
      "A subdirectory or file pour already exists.\n",
      "Error occurred while processing: pour.\n",
      "A subdirectory or file chaque already exists.\n",
      "Error occurred while processing: chaque.\n",
      "A subdirectory or file image already exists.\n",
      "Error occurred while processing: image.\n"
     ]
    },
    {
     "name": "stdout",
     "output_type": "stream",
     "text": [
      "Collecting images for Oui\n"
     ]
    },
    {
     "name": "stderr",
     "output_type": "stream",
     "text": [
      "A subdirectory or file #crÃ©er already exists.\n",
      "Error occurred while processing: #crÃ©er.\n",
      "A subdirectory or file dossier already exists.\n",
      "Error occurred while processing: dossier.\n",
      "A subdirectory or file pour already exists.\n",
      "Error occurred while processing: pour.\n",
      "A subdirectory or file chaque already exists.\n",
      "Error occurred while processing: chaque.\n",
      "A subdirectory or file image already exists.\n",
      "Error occurred while processing: image.\n"
     ]
    },
    {
     "name": "stdout",
     "output_type": "stream",
     "text": [
      "Collecting images for Non\n"
     ]
    },
    {
     "name": "stderr",
     "output_type": "stream",
     "text": [
      "A subdirectory or file #crÃ©er already exists.\n",
      "Error occurred while processing: #crÃ©er.\n",
      "A subdirectory or file dossier already exists.\n",
      "Error occurred while processing: dossier.\n",
      "A subdirectory or file pour already exists.\n",
      "Error occurred while processing: pour.\n",
      "A subdirectory or file chaque already exists.\n",
      "Error occurred while processing: chaque.\n",
      "A subdirectory or file image already exists.\n",
      "Error occurred while processing: image.\n"
     ]
    },
    {
     "name": "stdout",
     "output_type": "stream",
     "text": [
      "Collecting images for Merci\n"
     ]
    },
    {
     "name": "stderr",
     "output_type": "stream",
     "text": [
      "A subdirectory or file #crÃ©er already exists.\n",
      "Error occurred while processing: #crÃ©er.\n",
      "A subdirectory or file dossier already exists.\n",
      "Error occurred while processing: dossier.\n",
      "A subdirectory or file pour already exists.\n",
      "Error occurred while processing: pour.\n",
      "A subdirectory or file chaque already exists.\n",
      "Error occurred while processing: chaque.\n",
      "A subdirectory or file image already exists.\n",
      "Error occurred while processing: image.\n"
     ]
    },
    {
     "name": "stdout",
     "output_type": "stream",
     "text": [
      "Collecting images for Help\n"
     ]
    }
   ],
   "source": [
    "for label in labels:\n",
    "    !mkdir {'Tensorflow\\workspace\\images\\collectedimages\\\\'+label} #créer dossier pour chaque image\n",
    "    image_cap = cv2.VideoCapture(1) #0 reffers to my camera ( depending on your pc)\n",
    "   \n",
    "    \n",
    "    print(f\"Collecting images for {label}\")\n",
    "    time.sleep(5)\n",
    "    for imgnum in range(nombres_images):\n",
    "        ret, frame = image_cap.read()\n",
    "        nom_image = os.path.join(IMAGES_PATH,label,label+'.'+'{}.jpg'.format(str(uuid.uuid1()))) #uuid pour donner des noms identiques à chaque image\n",
    "        cv2.imwrite(nom_image,frame)\n",
    "        cv2.imshow('frame',frame)\n",
    "        time.sleep(2)\n",
    "        \n",
    "        if cv2.waitKey(1) & 0xFF == ord('q'):\n",
    "            break\n",
    "    image_cap.release()"
   ]
  },
  {
   "cell_type": "code",
   "execution_count": null,
   "metadata": {},
   "outputs": [],
   "source": []
  },
  {
   "cell_type": "code",
   "execution_count": null,
   "metadata": {},
   "outputs": [],
   "source": []
  }
 ],
 "metadata": {
  "kernelspec": {
   "display_name": "Python 3",
   "language": "python",
   "name": "python3"
  },
  "language_info": {
   "codemirror_mode": {
    "name": "ipython",
    "version": 3
   },
   "file_extension": ".py",
   "mimetype": "text/x-python",
   "name": "python",
   "nbconvert_exporter": "python",
   "pygments_lexer": "ipython3",
   "version": "3.7.3"
  }
 },
 "nbformat": 4,
 "nbformat_minor": 5
}
